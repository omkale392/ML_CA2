{
  "nbformat": 4,
  "nbformat_minor": 0,
  "metadata": {
    "colab": {
      "provenance": [],
      "authorship_tag": "ABX9TyPsJTwPIElP5szRe4PC2wpG",
      "include_colab_link": true
    },
    "kernelspec": {
      "name": "python3",
      "display_name": "Python 3"
    },
    "language_info": {
      "name": "python"
    }
  },
  "cells": [
    {
      "cell_type": "markdown",
      "metadata": {
        "id": "view-in-github",
        "colab_type": "text"
      },
      "source": [
        "<a href=\"https://colab.research.google.com/github/omkale392/ML_CA2/blob/main/20018405_ML_CA2.ipynb\" target=\"_parent\"><img src=\"https://colab.research.google.com/assets/colab-badge.svg\" alt=\"Open In Colab\"/></a>"
      ]
    },
    {
      "cell_type": "code",
      "execution_count": null,
      "metadata": {
        "id": "dnJmIGi734so"
      },
      "outputs": [],
      "source": []
    },
    {
      "cell_type": "markdown",
      "source": [
        "## Example 1\n",
        "Create a bagging classifier with a mixture of Naive Bayes, Logistic Regression, and SVC.\n",
        "\n",
        "Train your classifier with 80/20 using your proposed dataset\n",
        "\n",
        "Evaluate this classifier versus base classifiers and select the best model in terms of accuracy."
      ],
      "metadata": {
        "id": "iqqa4Yr_3-UW"
      }
    },
    {
      "cell_type": "code",
      "source": [
        "# Import necessary libraries\n",
        "\n",
        "import pandas as pd\n",
        "import numpy as np\n",
        "from sklearn.model_selection import train_test_split\n",
        "from sklearn.preprocessing import LabelEncoder\n",
        "from sklearn.ensemble import BaggingClassifier\n",
        "from sklearn.naive_bayes import GaussianNB\n",
        "from sklearn.linear_model import LogisticRegression\n",
        "from sklearn.svm import SVC\n",
        "from sklearn.metrics import accuracy_score\n"
      ],
      "metadata": {
        "id": "z-mP5Gq83_OQ"
      },
      "execution_count": 3,
      "outputs": []
    },
    {
      "cell_type": "code",
      "source": [
        "# Loading the dataset\n",
        "\n",
        "df = pd.read_csv('Moon_data.csv')\n",
        "df"
      ],
      "metadata": {
        "colab": {
          "base_uri": "https://localhost:8080/",
          "height": 667
        },
        "id": "sUiTupf2DtY1",
        "outputId": "526a83da-1c10-4a72-fa03-a63167273f9c"
      },
      "execution_count": 4,
      "outputs": [
        {
          "output_type": "execute_result",
          "data": {
            "text/plain": [
              "    Unnamed: 0                          Artificial object  \\\n",
              "0            0                                     Luna 2   \n",
              "1            1        Luna 2 Third stage of Vostok rocket   \n",
              "2            2                                   Ranger 4   \n",
              "3            3                                   Ranger 6   \n",
              "4            4                                   Ranger 7   \n",
              "..         ...                                        ...   \n",
              "84          84                         Hakuto-R Mission 1   \n",
              "85          85                     Emirates Lunar Mission   \n",
              "86          86                                    Luna 25   \n",
              "87          87  Chandrayaan-3 Vikram lander Pragyan rover   \n",
              "88          88                   Total estimated dry mass   \n",
              "\n",
              "                     Country                      Year Mass (lb) Mass (kg)  \\\n",
              "0               Soviet Union                      1959       860       390   \n",
              "1               Soviet Union                      1959     20100      9100   \n",
              "2              United States                      1962       730       331   \n",
              "3              United States                      1964       840       381   \n",
              "4              United States                      1964       805       365   \n",
              "..                       ...                       ...       ...       ...   \n",
              "84                     Japan                      2023       750       340   \n",
              "85      United Arab Emirates                      2023       750       340   \n",
              "86                    Russia                      2023      3860      1750   \n",
              "87                     India                      2023      3863      1752   \n",
              "88  Total estimated dry mass  Total estimated dry mass    453791    205868   \n",
              "\n",
              "                   Status                                     Location  \n",
              "0   Intentionally crashed                29°06′N 0°00′E﻿ / ﻿29.1°N 0°E  \n",
              "1   Intentionally crashed                29°06′N 0°00′E﻿ / ﻿29.1°N 0°E  \n",
              "2   Intentionally crashed          15°30′S 130°42′W﻿ / ﻿15.5°S 130.7°W  \n",
              "3   Intentionally crashed    9°21′29″N 21°28′48″E﻿ / ﻿9.358°N 21.480°E  \n",
              "4   Intentionally crashed          10°38′S 20°36′W﻿ / ﻿10.63°S 20.60°W  \n",
              "..                    ...                                          ...  \n",
              "84                Crashed  47°34′52″N 44°05′38″E﻿ / ﻿47.581°N 44.094°E  \n",
              "85                Crashed  47°34′52″N 44°05′38″E﻿ / ﻿47.581°N 44.094°E  \n",
              "86                Crashed                                          NaN  \n",
              "87            Operational  69°22′01″S 32°20′53″E﻿ / ﻿69.367°S 32.348°E  \n",
              "88                    NaN                                          NaN  \n",
              "\n",
              "[89 rows x 8 columns]"
            ],
            "text/html": [
              "\n",
              "  <div id=\"df-4a365c3f-dc89-4d41-bd18-3ed5789182d5\" class=\"colab-df-container\">\n",
              "    <div>\n",
              "<style scoped>\n",
              "    .dataframe tbody tr th:only-of-type {\n",
              "        vertical-align: middle;\n",
              "    }\n",
              "\n",
              "    .dataframe tbody tr th {\n",
              "        vertical-align: top;\n",
              "    }\n",
              "\n",
              "    .dataframe thead th {\n",
              "        text-align: right;\n",
              "    }\n",
              "</style>\n",
              "<table border=\"1\" class=\"dataframe\">\n",
              "  <thead>\n",
              "    <tr style=\"text-align: right;\">\n",
              "      <th></th>\n",
              "      <th>Unnamed: 0</th>\n",
              "      <th>Artificial object</th>\n",
              "      <th>Country</th>\n",
              "      <th>Year</th>\n",
              "      <th>Mass (lb)</th>\n",
              "      <th>Mass (kg)</th>\n",
              "      <th>Status</th>\n",
              "      <th>Location</th>\n",
              "    </tr>\n",
              "  </thead>\n",
              "  <tbody>\n",
              "    <tr>\n",
              "      <th>0</th>\n",
              "      <td>0</td>\n",
              "      <td>Luna 2</td>\n",
              "      <td>Soviet Union</td>\n",
              "      <td>1959</td>\n",
              "      <td>860</td>\n",
              "      <td>390</td>\n",
              "      <td>Intentionally crashed</td>\n",
              "      <td>29°06′N 0°00′E﻿ / ﻿29.1°N 0°E</td>\n",
              "    </tr>\n",
              "    <tr>\n",
              "      <th>1</th>\n",
              "      <td>1</td>\n",
              "      <td>Luna 2 Third stage of Vostok rocket</td>\n",
              "      <td>Soviet Union</td>\n",
              "      <td>1959</td>\n",
              "      <td>20100</td>\n",
              "      <td>9100</td>\n",
              "      <td>Intentionally crashed</td>\n",
              "      <td>29°06′N 0°00′E﻿ / ﻿29.1°N 0°E</td>\n",
              "    </tr>\n",
              "    <tr>\n",
              "      <th>2</th>\n",
              "      <td>2</td>\n",
              "      <td>Ranger 4</td>\n",
              "      <td>United States</td>\n",
              "      <td>1962</td>\n",
              "      <td>730</td>\n",
              "      <td>331</td>\n",
              "      <td>Intentionally crashed</td>\n",
              "      <td>15°30′S 130°42′W﻿ / ﻿15.5°S 130.7°W</td>\n",
              "    </tr>\n",
              "    <tr>\n",
              "      <th>3</th>\n",
              "      <td>3</td>\n",
              "      <td>Ranger 6</td>\n",
              "      <td>United States</td>\n",
              "      <td>1964</td>\n",
              "      <td>840</td>\n",
              "      <td>381</td>\n",
              "      <td>Intentionally crashed</td>\n",
              "      <td>9°21′29″N 21°28′48″E﻿ / ﻿9.358°N 21.480°E</td>\n",
              "    </tr>\n",
              "    <tr>\n",
              "      <th>4</th>\n",
              "      <td>4</td>\n",
              "      <td>Ranger 7</td>\n",
              "      <td>United States</td>\n",
              "      <td>1964</td>\n",
              "      <td>805</td>\n",
              "      <td>365</td>\n",
              "      <td>Intentionally crashed</td>\n",
              "      <td>10°38′S 20°36′W﻿ / ﻿10.63°S 20.60°W</td>\n",
              "    </tr>\n",
              "    <tr>\n",
              "      <th>...</th>\n",
              "      <td>...</td>\n",
              "      <td>...</td>\n",
              "      <td>...</td>\n",
              "      <td>...</td>\n",
              "      <td>...</td>\n",
              "      <td>...</td>\n",
              "      <td>...</td>\n",
              "      <td>...</td>\n",
              "    </tr>\n",
              "    <tr>\n",
              "      <th>84</th>\n",
              "      <td>84</td>\n",
              "      <td>Hakuto-R Mission 1</td>\n",
              "      <td>Japan</td>\n",
              "      <td>2023</td>\n",
              "      <td>750</td>\n",
              "      <td>340</td>\n",
              "      <td>Crashed</td>\n",
              "      <td>47°34′52″N 44°05′38″E﻿ / ﻿47.581°N 44.094°E</td>\n",
              "    </tr>\n",
              "    <tr>\n",
              "      <th>85</th>\n",
              "      <td>85</td>\n",
              "      <td>Emirates Lunar Mission</td>\n",
              "      <td>United Arab Emirates</td>\n",
              "      <td>2023</td>\n",
              "      <td>750</td>\n",
              "      <td>340</td>\n",
              "      <td>Crashed</td>\n",
              "      <td>47°34′52″N 44°05′38″E﻿ / ﻿47.581°N 44.094°E</td>\n",
              "    </tr>\n",
              "    <tr>\n",
              "      <th>86</th>\n",
              "      <td>86</td>\n",
              "      <td>Luna 25</td>\n",
              "      <td>Russia</td>\n",
              "      <td>2023</td>\n",
              "      <td>3860</td>\n",
              "      <td>1750</td>\n",
              "      <td>Crashed</td>\n",
              "      <td>NaN</td>\n",
              "    </tr>\n",
              "    <tr>\n",
              "      <th>87</th>\n",
              "      <td>87</td>\n",
              "      <td>Chandrayaan-3 Vikram lander Pragyan rover</td>\n",
              "      <td>India</td>\n",
              "      <td>2023</td>\n",
              "      <td>3863</td>\n",
              "      <td>1752</td>\n",
              "      <td>Operational</td>\n",
              "      <td>69°22′01″S 32°20′53″E﻿ / ﻿69.367°S 32.348°E</td>\n",
              "    </tr>\n",
              "    <tr>\n",
              "      <th>88</th>\n",
              "      <td>88</td>\n",
              "      <td>Total estimated dry mass</td>\n",
              "      <td>Total estimated dry mass</td>\n",
              "      <td>Total estimated dry mass</td>\n",
              "      <td>453791</td>\n",
              "      <td>205868</td>\n",
              "      <td>NaN</td>\n",
              "      <td>NaN</td>\n",
              "    </tr>\n",
              "  </tbody>\n",
              "</table>\n",
              "<p>89 rows × 8 columns</p>\n",
              "</div>\n",
              "    <div class=\"colab-df-buttons\">\n",
              "\n",
              "  <div class=\"colab-df-container\">\n",
              "    <button class=\"colab-df-convert\" onclick=\"convertToInteractive('df-4a365c3f-dc89-4d41-bd18-3ed5789182d5')\"\n",
              "            title=\"Convert this dataframe to an interactive table.\"\n",
              "            style=\"display:none;\">\n",
              "\n",
              "  <svg xmlns=\"http://www.w3.org/2000/svg\" height=\"24px\" viewBox=\"0 -960 960 960\">\n",
              "    <path d=\"M120-120v-720h720v720H120Zm60-500h600v-160H180v160Zm220 220h160v-160H400v160Zm0 220h160v-160H400v160ZM180-400h160v-160H180v160Zm440 0h160v-160H620v160ZM180-180h160v-160H180v160Zm440 0h160v-160H620v160Z\"/>\n",
              "  </svg>\n",
              "    </button>\n",
              "\n",
              "  <style>\n",
              "    .colab-df-container {\n",
              "      display:flex;\n",
              "      gap: 12px;\n",
              "    }\n",
              "\n",
              "    .colab-df-convert {\n",
              "      background-color: #E8F0FE;\n",
              "      border: none;\n",
              "      border-radius: 50%;\n",
              "      cursor: pointer;\n",
              "      display: none;\n",
              "      fill: #1967D2;\n",
              "      height: 32px;\n",
              "      padding: 0 0 0 0;\n",
              "      width: 32px;\n",
              "    }\n",
              "\n",
              "    .colab-df-convert:hover {\n",
              "      background-color: #E2EBFA;\n",
              "      box-shadow: 0px 1px 2px rgba(60, 64, 67, 0.3), 0px 1px 3px 1px rgba(60, 64, 67, 0.15);\n",
              "      fill: #174EA6;\n",
              "    }\n",
              "\n",
              "    .colab-df-buttons div {\n",
              "      margin-bottom: 4px;\n",
              "    }\n",
              "\n",
              "    [theme=dark] .colab-df-convert {\n",
              "      background-color: #3B4455;\n",
              "      fill: #D2E3FC;\n",
              "    }\n",
              "\n",
              "    [theme=dark] .colab-df-convert:hover {\n",
              "      background-color: #434B5C;\n",
              "      box-shadow: 0px 1px 3px 1px rgba(0, 0, 0, 0.15);\n",
              "      filter: drop-shadow(0px 1px 2px rgba(0, 0, 0, 0.3));\n",
              "      fill: #FFFFFF;\n",
              "    }\n",
              "  </style>\n",
              "\n",
              "    <script>\n",
              "      const buttonEl =\n",
              "        document.querySelector('#df-4a365c3f-dc89-4d41-bd18-3ed5789182d5 button.colab-df-convert');\n",
              "      buttonEl.style.display =\n",
              "        google.colab.kernel.accessAllowed ? 'block' : 'none';\n",
              "\n",
              "      async function convertToInteractive(key) {\n",
              "        const element = document.querySelector('#df-4a365c3f-dc89-4d41-bd18-3ed5789182d5');\n",
              "        const dataTable =\n",
              "          await google.colab.kernel.invokeFunction('convertToInteractive',\n",
              "                                                    [key], {});\n",
              "        if (!dataTable) return;\n",
              "\n",
              "        const docLinkHtml = 'Like what you see? Visit the ' +\n",
              "          '<a target=\"_blank\" href=https://colab.research.google.com/notebooks/data_table.ipynb>data table notebook</a>'\n",
              "          + ' to learn more about interactive tables.';\n",
              "        element.innerHTML = '';\n",
              "        dataTable['output_type'] = 'display_data';\n",
              "        await google.colab.output.renderOutput(dataTable, element);\n",
              "        const docLink = document.createElement('div');\n",
              "        docLink.innerHTML = docLinkHtml;\n",
              "        element.appendChild(docLink);\n",
              "      }\n",
              "    </script>\n",
              "  </div>\n",
              "\n",
              "\n",
              "<div id=\"df-d89daec0-e937-414c-ba17-7174823d96d8\">\n",
              "  <button class=\"colab-df-quickchart\" onclick=\"quickchart('df-d89daec0-e937-414c-ba17-7174823d96d8')\"\n",
              "            title=\"Suggest charts\"\n",
              "            style=\"display:none;\">\n",
              "\n",
              "<svg xmlns=\"http://www.w3.org/2000/svg\" height=\"24px\"viewBox=\"0 0 24 24\"\n",
              "     width=\"24px\">\n",
              "    <g>\n",
              "        <path d=\"M19 3H5c-1.1 0-2 .9-2 2v14c0 1.1.9 2 2 2h14c1.1 0 2-.9 2-2V5c0-1.1-.9-2-2-2zM9 17H7v-7h2v7zm4 0h-2V7h2v10zm4 0h-2v-4h2v4z\"/>\n",
              "    </g>\n",
              "</svg>\n",
              "  </button>\n",
              "\n",
              "<style>\n",
              "  .colab-df-quickchart {\n",
              "      --bg-color: #E8F0FE;\n",
              "      --fill-color: #1967D2;\n",
              "      --hover-bg-color: #E2EBFA;\n",
              "      --hover-fill-color: #174EA6;\n",
              "      --disabled-fill-color: #AAA;\n",
              "      --disabled-bg-color: #DDD;\n",
              "  }\n",
              "\n",
              "  [theme=dark] .colab-df-quickchart {\n",
              "      --bg-color: #3B4455;\n",
              "      --fill-color: #D2E3FC;\n",
              "      --hover-bg-color: #434B5C;\n",
              "      --hover-fill-color: #FFFFFF;\n",
              "      --disabled-bg-color: #3B4455;\n",
              "      --disabled-fill-color: #666;\n",
              "  }\n",
              "\n",
              "  .colab-df-quickchart {\n",
              "    background-color: var(--bg-color);\n",
              "    border: none;\n",
              "    border-radius: 50%;\n",
              "    cursor: pointer;\n",
              "    display: none;\n",
              "    fill: var(--fill-color);\n",
              "    height: 32px;\n",
              "    padding: 0;\n",
              "    width: 32px;\n",
              "  }\n",
              "\n",
              "  .colab-df-quickchart:hover {\n",
              "    background-color: var(--hover-bg-color);\n",
              "    box-shadow: 0 1px 2px rgba(60, 64, 67, 0.3), 0 1px 3px 1px rgba(60, 64, 67, 0.15);\n",
              "    fill: var(--button-hover-fill-color);\n",
              "  }\n",
              "\n",
              "  .colab-df-quickchart-complete:disabled,\n",
              "  .colab-df-quickchart-complete:disabled:hover {\n",
              "    background-color: var(--disabled-bg-color);\n",
              "    fill: var(--disabled-fill-color);\n",
              "    box-shadow: none;\n",
              "  }\n",
              "\n",
              "  .colab-df-spinner {\n",
              "    border: 2px solid var(--fill-color);\n",
              "    border-color: transparent;\n",
              "    border-bottom-color: var(--fill-color);\n",
              "    animation:\n",
              "      spin 1s steps(1) infinite;\n",
              "  }\n",
              "\n",
              "  @keyframes spin {\n",
              "    0% {\n",
              "      border-color: transparent;\n",
              "      border-bottom-color: var(--fill-color);\n",
              "      border-left-color: var(--fill-color);\n",
              "    }\n",
              "    20% {\n",
              "      border-color: transparent;\n",
              "      border-left-color: var(--fill-color);\n",
              "      border-top-color: var(--fill-color);\n",
              "    }\n",
              "    30% {\n",
              "      border-color: transparent;\n",
              "      border-left-color: var(--fill-color);\n",
              "      border-top-color: var(--fill-color);\n",
              "      border-right-color: var(--fill-color);\n",
              "    }\n",
              "    40% {\n",
              "      border-color: transparent;\n",
              "      border-right-color: var(--fill-color);\n",
              "      border-top-color: var(--fill-color);\n",
              "    }\n",
              "    60% {\n",
              "      border-color: transparent;\n",
              "      border-right-color: var(--fill-color);\n",
              "    }\n",
              "    80% {\n",
              "      border-color: transparent;\n",
              "      border-right-color: var(--fill-color);\n",
              "      border-bottom-color: var(--fill-color);\n",
              "    }\n",
              "    90% {\n",
              "      border-color: transparent;\n",
              "      border-bottom-color: var(--fill-color);\n",
              "    }\n",
              "  }\n",
              "</style>\n",
              "\n",
              "  <script>\n",
              "    async function quickchart(key) {\n",
              "      const quickchartButtonEl =\n",
              "        document.querySelector('#' + key + ' button');\n",
              "      quickchartButtonEl.disabled = true;  // To prevent multiple clicks.\n",
              "      quickchartButtonEl.classList.add('colab-df-spinner');\n",
              "      try {\n",
              "        const charts = await google.colab.kernel.invokeFunction(\n",
              "            'suggestCharts', [key], {});\n",
              "      } catch (error) {\n",
              "        console.error('Error during call to suggestCharts:', error);\n",
              "      }\n",
              "      quickchartButtonEl.classList.remove('colab-df-spinner');\n",
              "      quickchartButtonEl.classList.add('colab-df-quickchart-complete');\n",
              "    }\n",
              "    (() => {\n",
              "      let quickchartButtonEl =\n",
              "        document.querySelector('#df-d89daec0-e937-414c-ba17-7174823d96d8 button');\n",
              "      quickchartButtonEl.style.display =\n",
              "        google.colab.kernel.accessAllowed ? 'block' : 'none';\n",
              "    })();\n",
              "  </script>\n",
              "</div>\n",
              "    </div>\n",
              "  </div>\n"
            ]
          },
          "metadata": {},
          "execution_count": 4
        }
      ]
    },
    {
      "cell_type": "markdown",
      "source": [
        "# Preprocessing the dataset"
      ],
      "metadata": {
        "id": "qhrekgYCEwDp"
      }
    },
    {
      "cell_type": "code",
      "source": [
        "# Convert 'Year' and 'Mass (kg)' to numeric values\n",
        "\n",
        "df['Year'] = pd.to_numeric(df['Year'], errors='coerce')\n",
        "df['Mass (kg)'] = pd.to_numeric(df['Mass (kg)'], errors='coerce')"
      ],
      "metadata": {
        "id": "a4HTWNH7Eiej"
      },
      "execution_count": 5,
      "outputs": []
    },
    {
      "cell_type": "code",
      "source": [
        "# Filling missing values withh the median\n",
        "\n",
        "df['Year'].fillna(df['Year'].median(), inplace = True)\n",
        "df['Mass (kg)'].fillna(df['Mass (kg)'].median(), inplace=True)\n"
      ],
      "metadata": {
        "id": "1dbV_31UFhGW"
      },
      "execution_count": 7,
      "outputs": []
    },
    {
      "cell_type": "code",
      "source": [
        "# Encode the 'Status' column\n",
        "status = LabelEncoder()\n",
        "df['Status_encoded'] = status.fit_transform(df['Status'])"
      ],
      "metadata": {
        "id": "gpwffcd-GPwR"
      },
      "execution_count": 8,
      "outputs": []
    },
    {
      "cell_type": "code",
      "source": [
        "# Selecting features and target variable\n",
        "x = df[['Year', 'Mass (kg)', 'Status_encoded']]\n",
        "y = df['Country']\n"
      ],
      "metadata": {
        "id": "HS1JAJqMGndi"
      },
      "execution_count": 9,
      "outputs": []
    },
    {
      "cell_type": "code",
      "source": [
        "# Encoding the target variable\n",
        "\n",
        "country = LabelEncoder()\n",
        "enclosed = country.fit_transform(y)"
      ],
      "metadata": {
        "id": "MDJvhXxfHEqu"
      },
      "execution_count": 11,
      "outputs": []
    },
    {
      "cell_type": "code",
      "source": [
        "# Splitting the dataset into training and test set (80/20)\n",
        "\n",
        "X_train, X_test, y_train, y_test = train_test_split(x, y, test_size = 0.2, random_state = 42)\n"
      ],
      "metadata": {
        "id": "2-x2qZrFHQYk"
      },
      "execution_count": 13,
      "outputs": []
    },
    {
      "cell_type": "code",
      "source": [
        "# Base classifiers\n",
        "naive_bayes_clf = GaussianNB()\n",
        "log_reg_clf  =LogisticRegression(random_state=42, max_iter=1000)\n",
        "svc_clf = SVC(random_state=42)"
      ],
      "metadata": {
        "id": "CyKGMnJoHydK"
      },
      "execution_count": 17,
      "outputs": []
    },
    {
      "cell_type": "code",
      "source": [
        "# Bagging classifier with a mixture of classifiers\n",
        "bagging_clf = BaggingClassifier(base_estimator=None,\n",
        "                                n_estimators=3,\n",
        "                                max_samples=1.0,\n",
        "                                max_features=1.0,\n",
        "                                bootstrap=True,\n",
        "                                bootstrap_features=False,\n",
        "                                oob_score=False,\n",
        "                                warm_start=False,\n",
        "                                n_jobs=None,\n",
        "                                random_state=42,\n",
        "                                verbose=0)\n"
      ],
      "metadata": {
        "id": "0uXzYdI8IZFr"
      },
      "execution_count": 18,
      "outputs": []
    },
    {
      "cell_type": "code",
      "source": [
        "# Assigning base estimators to the bagging classifier\n",
        "bagging_clf.estimators_ = [naive_bayes_clf, log_reg_clf, svc_clf]"
      ],
      "metadata": {
        "id": "un8MO3qsIjKr"
      },
      "execution_count": 19,
      "outputs": []
    },
    {
      "cell_type": "code",
      "source": [
        "# Training the Bagging Classifier\n",
        "bagging_clf.fit(X_train, y_train)\n"
      ],
      "metadata": {
        "colab": {
          "base_uri": "https://localhost:8080/",
          "height": 75
        },
        "id": "ofWoOZ_wImgE",
        "outputId": "74f7b802-f6a3-4948-f02a-664f9974a843"
      },
      "execution_count": 20,
      "outputs": [
        {
          "output_type": "execute_result",
          "data": {
            "text/plain": [
              "BaggingClassifier(base_estimator=None, n_estimators=3, random_state=42)"
            ],
            "text/html": [
              "<style>#sk-container-id-1 {color: black;background-color: white;}#sk-container-id-1 pre{padding: 0;}#sk-container-id-1 div.sk-toggleable {background-color: white;}#sk-container-id-1 label.sk-toggleable__label {cursor: pointer;display: block;width: 100%;margin-bottom: 0;padding: 0.3em;box-sizing: border-box;text-align: center;}#sk-container-id-1 label.sk-toggleable__label-arrow:before {content: \"▸\";float: left;margin-right: 0.25em;color: #696969;}#sk-container-id-1 label.sk-toggleable__label-arrow:hover:before {color: black;}#sk-container-id-1 div.sk-estimator:hover label.sk-toggleable__label-arrow:before {color: black;}#sk-container-id-1 div.sk-toggleable__content {max-height: 0;max-width: 0;overflow: hidden;text-align: left;background-color: #f0f8ff;}#sk-container-id-1 div.sk-toggleable__content pre {margin: 0.2em;color: black;border-radius: 0.25em;background-color: #f0f8ff;}#sk-container-id-1 input.sk-toggleable__control:checked~div.sk-toggleable__content {max-height: 200px;max-width: 100%;overflow: auto;}#sk-container-id-1 input.sk-toggleable__control:checked~label.sk-toggleable__label-arrow:before {content: \"▾\";}#sk-container-id-1 div.sk-estimator input.sk-toggleable__control:checked~label.sk-toggleable__label {background-color: #d4ebff;}#sk-container-id-1 div.sk-label input.sk-toggleable__control:checked~label.sk-toggleable__label {background-color: #d4ebff;}#sk-container-id-1 input.sk-hidden--visually {border: 0;clip: rect(1px 1px 1px 1px);clip: rect(1px, 1px, 1px, 1px);height: 1px;margin: -1px;overflow: hidden;padding: 0;position: absolute;width: 1px;}#sk-container-id-1 div.sk-estimator {font-family: monospace;background-color: #f0f8ff;border: 1px dotted black;border-radius: 0.25em;box-sizing: border-box;margin-bottom: 0.5em;}#sk-container-id-1 div.sk-estimator:hover {background-color: #d4ebff;}#sk-container-id-1 div.sk-parallel-item::after {content: \"\";width: 100%;border-bottom: 1px solid gray;flex-grow: 1;}#sk-container-id-1 div.sk-label:hover label.sk-toggleable__label {background-color: #d4ebff;}#sk-container-id-1 div.sk-serial::before {content: \"\";position: absolute;border-left: 1px solid gray;box-sizing: border-box;top: 0;bottom: 0;left: 50%;z-index: 0;}#sk-container-id-1 div.sk-serial {display: flex;flex-direction: column;align-items: center;background-color: white;padding-right: 0.2em;padding-left: 0.2em;position: relative;}#sk-container-id-1 div.sk-item {position: relative;z-index: 1;}#sk-container-id-1 div.sk-parallel {display: flex;align-items: stretch;justify-content: center;background-color: white;position: relative;}#sk-container-id-1 div.sk-item::before, #sk-container-id-1 div.sk-parallel-item::before {content: \"\";position: absolute;border-left: 1px solid gray;box-sizing: border-box;top: 0;bottom: 0;left: 50%;z-index: -1;}#sk-container-id-1 div.sk-parallel-item {display: flex;flex-direction: column;z-index: 1;position: relative;background-color: white;}#sk-container-id-1 div.sk-parallel-item:first-child::after {align-self: flex-end;width: 50%;}#sk-container-id-1 div.sk-parallel-item:last-child::after {align-self: flex-start;width: 50%;}#sk-container-id-1 div.sk-parallel-item:only-child::after {width: 0;}#sk-container-id-1 div.sk-dashed-wrapped {border: 1px dashed gray;margin: 0 0.4em 0.5em 0.4em;box-sizing: border-box;padding-bottom: 0.4em;background-color: white;}#sk-container-id-1 div.sk-label label {font-family: monospace;font-weight: bold;display: inline-block;line-height: 1.2em;}#sk-container-id-1 div.sk-label-container {text-align: center;}#sk-container-id-1 div.sk-container {/* jupyter's `normalize.less` sets `[hidden] { display: none; }` but bootstrap.min.css set `[hidden] { display: none !important; }` so we also need the `!important` here to be able to override the default hidden behavior on the sphinx rendered scikit-learn.org. See: https://github.com/scikit-learn/scikit-learn/issues/21755 */display: inline-block !important;position: relative;}#sk-container-id-1 div.sk-text-repr-fallback {display: none;}</style><div id=\"sk-container-id-1\" class=\"sk-top-container\"><div class=\"sk-text-repr-fallback\"><pre>BaggingClassifier(base_estimator=None, n_estimators=3, random_state=42)</pre><b>In a Jupyter environment, please rerun this cell to show the HTML representation or trust the notebook. <br />On GitHub, the HTML representation is unable to render, please try loading this page with nbviewer.org.</b></div><div class=\"sk-container\" hidden><div class=\"sk-item\"><div class=\"sk-estimator sk-toggleable\"><input class=\"sk-toggleable__control sk-hidden--visually\" id=\"sk-estimator-id-1\" type=\"checkbox\" checked><label for=\"sk-estimator-id-1\" class=\"sk-toggleable__label sk-toggleable__label-arrow\">BaggingClassifier</label><div class=\"sk-toggleable__content\"><pre>BaggingClassifier(base_estimator=None, n_estimators=3, random_state=42)</pre></div></div></div></div></div>"
            ]
          },
          "metadata": {},
          "execution_count": 20
        }
      ]
    },
    {
      "cell_type": "code",
      "source": [
        "# Evaluating the Bagging Classifier\n",
        "y_pred_bagging = bagging_clf.predict(X_test)\n",
        "accuracy_bagging = accuracy_score(y_test, y_pred_bagging)\n",
        "\n",
        "# Training and evaluating the base classifiers\n",
        "naive_bayes_clf.fit(X_train, y_train)\n",
        "y_pred_nb = naive_bayes_clf.predict(X_test)\n",
        "accuracy_nb = accuracy_score(y_test, y_pred_nb)\n",
        "\n",
        "log_reg_clf.fit(X_train, y_train)\n",
        "y_pred_lr = log_reg_clf.predict(X_test)\n",
        "accuracy_lr = accuracy_score(y_test, y_pred_lr)\n",
        "\n",
        "svc_clf.fit(X_train, y_train)\n",
        "y_pred_svc = svc_clf.predict(X_test)\n",
        "accuracy_svc = accuracy_score(y_test, y_pred_svc)\n"
      ],
      "metadata": {
        "colab": {
          "base_uri": "https://localhost:8080/"
        },
        "id": "mWFS8xohJA-o",
        "outputId": "4cb276bb-4007-427b-f9fb-55d301ac03f0"
      },
      "execution_count": 21,
      "outputs": [
        {
          "output_type": "stream",
          "name": "stderr",
          "text": [
            "/usr/local/lib/python3.10/dist-packages/sklearn/linear_model/_logistic.py:458: ConvergenceWarning: lbfgs failed to converge (status=1):\n",
            "STOP: TOTAL NO. of ITERATIONS REACHED LIMIT.\n",
            "\n",
            "Increase the number of iterations (max_iter) or scale the data as shown in:\n",
            "    https://scikit-learn.org/stable/modules/preprocessing.html\n",
            "Please also refer to the documentation for alternative solver options:\n",
            "    https://scikit-learn.org/stable/modules/linear_model.html#logistic-regression\n",
            "  n_iter_i = _check_optimize_result(\n"
          ]
        }
      ]
    },
    {
      "cell_type": "code",
      "source": [
        "# Print the accuracies\n",
        "print(\"Accuracy of Bagging Classifier:\", accuracy_bagging)\n",
        "print(\"Accuracy of Naive Bayes:\", accuracy_nb)\n",
        "print(\"Accuracy of Logistic Regression:\", accuracy_lr)\n",
        "print(\"Accuracy of SVC:\", accuracy_svc)\n"
      ],
      "metadata": {
        "colab": {
          "base_uri": "https://localhost:8080/"
        },
        "id": "_Z5KBv81JHJ2",
        "outputId": "5feca264-b402-42f2-d194-cd96e7db5204"
      },
      "execution_count": 22,
      "outputs": [
        {
          "output_type": "stream",
          "name": "stdout",
          "text": [
            "Accuracy of Bagging Classifier: 0.7777777777777778\n",
            "Accuracy of Naive Bayes: 0.3333333333333333\n",
            "Accuracy of Logistic Regression: 0.4444444444444444\n",
            "Accuracy of SVC: 0.5\n"
          ]
        }
      ]
    },
    {
      "cell_type": "markdown",
      "source": [
        "Example 2\n",
        "\n",
        "1. Create a boosting classifier with a mixture of **Naive Bayes** as a first weaker model, **Logistic Regression** as the second base model, and **decision tree** classifier as the third classifier. Define your created model as **MB()**.\n",
        "\n",
        "2. Train **MB()** with  80/20 using your proposed dataset\n",
        "\n",
        "3. Compare the performance of **MB()** versus bagging classifier in Example one and other base classifiers. Select the best model in terms of **RECALL**."
      ],
      "metadata": {
        "id": "Kkkd6RyoKX9G"
      }
    },
    {
      "cell_type": "code",
      "source": [
        "# Import necessary libraries\n",
        "import numpy as np\n",
        "from sklearn.base import BaseEstimator, ClassifierMixin\n",
        "from sklearn.naive_bayes import GaussianNB\n",
        "from sklearn.linear_model import LogisticRegression\n",
        "from sklearn.tree import DecisionTreeClassifier\n",
        "from sklearn.metrics import recall_score\n"
      ],
      "metadata": {
        "id": "FbVOcKBpKYuL"
      },
      "execution_count": 23,
      "outputs": []
    },
    {
      "cell_type": "code",
      "source": [
        "# Define the custom MB() boosting classifier\n",
        "class MB(BaseEstimator, ClassifierMixin):\n",
        "    def __init__(self):\n",
        "        self.nb = GaussianNB()\n",
        "        self.lr = LogisticRegression(random_state=42, max_iter=1000)\n",
        "        self.dt = DecisionTreeClassifier(random_state=42)\n",
        "\n",
        ""
      ],
      "metadata": {
        "id": "5V2PBUxyKhoZ"
      },
      "execution_count": 24,
      "outputs": []
    },
    {
      "cell_type": "code",
      "source": [
        "def fit(self, X, y):\n",
        "        # First model: Naive Bayes\n",
        "        self.nb.fit(X, y)\n",
        "\n",
        "        # Get misclassified examples by the first model\n",
        "        nb_preds = self.nb.predict(X)\n",
        "        misclassified = nb_preds != y\n",
        "# Second model: Logistic Regression on misclassified examples\n",
        "        self.lr.fit(X[misclassified], y[misclassified])\n",
        "\n",
        "        # Get misclassified examples by the second model\n",
        "        lr_preds = self.lr.predict(X)\n",
        "        misclassified = np.logical_and(misclassified, lr_preds != y)\n",
        "\n",
        "        # Third model: Decision Tree on misclassified examples by both\n",
        "        self.dt.fit(X[misclassified], y[misclassified])\n",
        "\n",
        "        return self"
      ],
      "metadata": {
        "id": "7qYvwMOfKyMK"
      },
      "execution_count": 25,
      "outputs": []
    },
    {
      "cell_type": "code",
      "source": [
        " def predict(self, X):\n",
        "        # Combine predictions\n",
        "        nb_preds = self.nb.predict(X)\n",
        "        lr_preds = self.lr.predict(X)\n",
        "        dt_preds = self.dt.predict(X)\n",
        "\n",
        "        # Final prediction rule\n",
        "        final_preds = np.where(lr_preds == nb_preds, lr_preds, dt_preds)\n",
        "        return final_preds"
      ],
      "metadata": {
        "id": "yoS1NpFKK5XS"
      },
      "execution_count": 26,
      "outputs": []
    },
    {
      "cell_type": "code",
      "source": [
        "# Instantiate and train MB()\n",
        "mb_model = MB()\n",
        "mb_model.fit(X_train, y_train)\n"
      ],
      "metadata": {
        "colab": {
          "base_uri": "https://localhost:8080/",
          "height": 210
        },
        "id": "NOElyY4lK8mz",
        "outputId": "b6d3115e-5668-4c34-cdc5-9c31c7eba7b5"
      },
      "execution_count": 31,
      "outputs": [
        {
          "output_type": "error",
          "ename": "AttributeError",
          "evalue": "ignored",
          "traceback": [
            "\u001b[0;31m---------------------------------------------------------------------------\u001b[0m",
            "\u001b[0;31mAttributeError\u001b[0m                            Traceback (most recent call last)",
            "\u001b[0;32m<ipython-input-31-2cee8db8b809>\u001b[0m in \u001b[0;36m<cell line: 3>\u001b[0;34m()\u001b[0m\n\u001b[1;32m      1\u001b[0m \u001b[0;31m# Instantiate and train MB()\u001b[0m\u001b[0;34m\u001b[0m\u001b[0;34m\u001b[0m\u001b[0m\n\u001b[1;32m      2\u001b[0m \u001b[0mmb_model\u001b[0m \u001b[0;34m=\u001b[0m \u001b[0mMB\u001b[0m\u001b[0;34m(\u001b[0m\u001b[0;34m)\u001b[0m\u001b[0;34m\u001b[0m\u001b[0;34m\u001b[0m\u001b[0m\n\u001b[0;32m----> 3\u001b[0;31m \u001b[0mmb_model\u001b[0m\u001b[0;34m.\u001b[0m\u001b[0mfit\u001b[0m\u001b[0;34m(\u001b[0m\u001b[0mX_train\u001b[0m\u001b[0;34m,\u001b[0m \u001b[0my_train\u001b[0m\u001b[0;34m)\u001b[0m\u001b[0;34m\u001b[0m\u001b[0;34m\u001b[0m\u001b[0m\n\u001b[0m",
            "\u001b[0;31mAttributeError\u001b[0m: 'MB' object has no attribute 'fit'"
          ]
        }
      ]
    },
    {
      "cell_type": "code",
      "source": [
        "# Evaluate recall of MB()\n",
        "y_pred_mb = mb_model.predict(X_test)\n",
        "recall_mb = recall_score(y_test, y_pred_mb, average='macro')\n",
        "\n",
        "# Compare with recall of Bagging Classifier and base classifiers\n",
        "recall_bagging = recall_score(y_test, y_pred_bagging, average='macro')\n",
        "recall_nb = recall_score(y_test, y_pred_nb, average='macro')\n",
        "recall_lr = recall_score(y_test, y_pred_lr, average='macro')\n",
        "recall_svc = recall_score(y_test, y_pred_svc, average='macro')\n",
        "\n",
        "# Print the recall scores\n",
        "print(\"Recall of MB():\", recall_mb)\n",
        "print(\"Recall of Bagging Classifier:\", recall_bagging)\n",
        "print(\"Recall of Naive Bayes:\", recall_nb)\n",
        "print(\"Recall of Logistic Regression:\", recall_lr)\n",
        "print(\"Recall of SVC:\", recall_svc)"
      ],
      "metadata": {
        "colab": {
          "base_uri": "https://localhost:8080/",
          "height": 245
        },
        "id": "pNWY0qtoK_oK",
        "outputId": "7aa2c899-644b-4503-fd55-fa165645dc5e"
      },
      "execution_count": 33,
      "outputs": [
        {
          "output_type": "error",
          "ename": "AttributeError",
          "evalue": "ignored",
          "traceback": [
            "\u001b[0;31m---------------------------------------------------------------------------\u001b[0m",
            "\u001b[0;31mAttributeError\u001b[0m                            Traceback (most recent call last)",
            "\u001b[0;32m<ipython-input-33-7fa43b760a86>\u001b[0m in \u001b[0;36m<cell line: 2>\u001b[0;34m()\u001b[0m\n\u001b[1;32m      1\u001b[0m \u001b[0;31m# Evaluate recall of MB()\u001b[0m\u001b[0;34m\u001b[0m\u001b[0;34m\u001b[0m\u001b[0m\n\u001b[0;32m----> 2\u001b[0;31m \u001b[0my_pred_mb\u001b[0m \u001b[0;34m=\u001b[0m \u001b[0mmb_model\u001b[0m\u001b[0;34m.\u001b[0m\u001b[0mpredict\u001b[0m\u001b[0;34m(\u001b[0m\u001b[0mX_test\u001b[0m\u001b[0;34m)\u001b[0m\u001b[0;34m\u001b[0m\u001b[0;34m\u001b[0m\u001b[0m\n\u001b[0m\u001b[1;32m      3\u001b[0m \u001b[0mrecall_mb\u001b[0m \u001b[0;34m=\u001b[0m \u001b[0mrecall_score\u001b[0m\u001b[0;34m(\u001b[0m\u001b[0my_test\u001b[0m\u001b[0;34m,\u001b[0m \u001b[0my_pred_mb\u001b[0m\u001b[0;34m,\u001b[0m \u001b[0maverage\u001b[0m\u001b[0;34m=\u001b[0m\u001b[0;34m'macro'\u001b[0m\u001b[0;34m)\u001b[0m\u001b[0;34m\u001b[0m\u001b[0;34m\u001b[0m\u001b[0m\n\u001b[1;32m      4\u001b[0m \u001b[0;34m\u001b[0m\u001b[0m\n\u001b[1;32m      5\u001b[0m \u001b[0;31m# Compare with recall of Bagging Classifier and base classifiers\u001b[0m\u001b[0;34m\u001b[0m\u001b[0;34m\u001b[0m\u001b[0m\n",
            "\u001b[0;31mAttributeError\u001b[0m: 'MB' object has no attribute 'predict'"
          ]
        }
      ]
    },
    {
      "cell_type": "markdown",
      "source": [
        "Example 3\n",
        "\n",
        "1. Create a stacking classifier with a **mixture** of **Naive Bayes, Logistic Regression, and SVC**.\n",
        "\n",
        "2. Train your classifier with  80/20 using your proposed dataset\n",
        "\n",
        "3. compare the trained classifier versus the mixture bagging and boosting and specify the best ensemble approach in terms of accuracy."
      ],
      "metadata": {
        "id": "qurSIWx8Lo6E"
      }
    },
    {
      "cell_type": "code",
      "source": [
        "# Import necessary libraries\n",
        "from sklearn.ensemble import StackingClassifier\n",
        "from sklearn.naive_bayes import GaussianNB\n",
        "from sklearn.linear_model import LogisticRegression\n",
        "from sklearn.svm import SVC\n",
        "from sklearn.metrics import accuracy_score"
      ],
      "metadata": {
        "id": "zWxn4MdlLplA"
      },
      "execution_count": 35,
      "outputs": []
    },
    {
      "cell_type": "code",
      "source": [
        "# Base classifiers for the stacking model\n",
        "base_learners = [\n",
        "    ('nb', GaussianNB()),\n",
        "    ('lr', LogisticRegression(random_state=42, max_iter=1000)),\n",
        "    ('svc', SVC(random_state=42))\n",
        "]"
      ],
      "metadata": {
        "id": "miIp7LyrMTtd"
      },
      "execution_count": 37,
      "outputs": []
    },
    {
      "cell_type": "code",
      "source": [
        "# Stacking Classifier with Logistic Regression as the final estimator\n",
        "stack_clf = StackingClassifier(estimators=base_learners, final_estimator=LogisticRegression())\n",
        "\n",
        "# Training the Stacking Classifier\n",
        "stack_clf.fit(X_train, y_train)\n",
        "\n",
        "# Evaluating the Stacking Classifier\n",
        "y_pred_stack = stack_clf.predict(X_test)\n",
        "accuracy_stack = accuracy_score(y_test, y_pred_stack)"
      ],
      "metadata": {
        "colab": {
          "base_uri": "https://localhost:8080/"
        },
        "id": "LA7wn3RvMXbZ",
        "outputId": "a1788b08-abf0-45e3-9d86-8887be917a13"
      },
      "execution_count": 38,
      "outputs": [
        {
          "output_type": "stream",
          "name": "stderr",
          "text": [
            "/usr/local/lib/python3.10/dist-packages/sklearn/linear_model/_logistic.py:458: ConvergenceWarning: lbfgs failed to converge (status=1):\n",
            "STOP: TOTAL NO. of ITERATIONS REACHED LIMIT.\n",
            "\n",
            "Increase the number of iterations (max_iter) or scale the data as shown in:\n",
            "    https://scikit-learn.org/stable/modules/preprocessing.html\n",
            "Please also refer to the documentation for alternative solver options:\n",
            "    https://scikit-learn.org/stable/modules/linear_model.html#logistic-regression\n",
            "  n_iter_i = _check_optimize_result(\n",
            "/usr/local/lib/python3.10/dist-packages/sklearn/model_selection/_split.py:700: UserWarning: The least populated class in y has only 1 members, which is less than n_splits=5.\n",
            "  warnings.warn(\n",
            "/usr/local/lib/python3.10/dist-packages/sklearn/model_selection/_validation.py:1116: RuntimeWarning: Number of classes in training fold (8) does not match total number of classes (10). Results may not be appropriate for your use case. To fix this, use a cross-validation technique resulting in properly stratified folds\n",
            "  warnings.warn(\n",
            "/usr/local/lib/python3.10/dist-packages/sklearn/model_selection/_validation.py:1116: RuntimeWarning: Number of classes in training fold (8) does not match total number of classes (10). Results may not be appropriate for your use case. To fix this, use a cross-validation technique resulting in properly stratified folds\n",
            "  warnings.warn(\n",
            "/usr/local/lib/python3.10/dist-packages/sklearn/model_selection/_validation.py:1116: RuntimeWarning: Number of classes in training fold (9) does not match total number of classes (10). Results may not be appropriate for your use case. To fix this, use a cross-validation technique resulting in properly stratified folds\n",
            "  warnings.warn(\n",
            "/usr/local/lib/python3.10/dist-packages/sklearn/model_selection/_split.py:700: UserWarning: The least populated class in y has only 1 members, which is less than n_splits=5.\n",
            "  warnings.warn(\n",
            "/usr/local/lib/python3.10/dist-packages/sklearn/linear_model/_logistic.py:458: ConvergenceWarning: lbfgs failed to converge (status=1):\n",
            "STOP: TOTAL NO. of ITERATIONS REACHED LIMIT.\n",
            "\n",
            "Increase the number of iterations (max_iter) or scale the data as shown in:\n",
            "    https://scikit-learn.org/stable/modules/preprocessing.html\n",
            "Please also refer to the documentation for alternative solver options:\n",
            "    https://scikit-learn.org/stable/modules/linear_model.html#logistic-regression\n",
            "  n_iter_i = _check_optimize_result(\n",
            "/usr/local/lib/python3.10/dist-packages/sklearn/model_selection/_validation.py:1116: RuntimeWarning: Number of classes in training fold (8) does not match total number of classes (10). Results may not be appropriate for your use case. To fix this, use a cross-validation technique resulting in properly stratified folds\n",
            "  warnings.warn(\n",
            "/usr/local/lib/python3.10/dist-packages/sklearn/linear_model/_logistic.py:458: ConvergenceWarning: lbfgs failed to converge (status=1):\n",
            "STOP: TOTAL NO. of ITERATIONS REACHED LIMIT.\n",
            "\n",
            "Increase the number of iterations (max_iter) or scale the data as shown in:\n",
            "    https://scikit-learn.org/stable/modules/preprocessing.html\n",
            "Please also refer to the documentation for alternative solver options:\n",
            "    https://scikit-learn.org/stable/modules/linear_model.html#logistic-regression\n",
            "  n_iter_i = _check_optimize_result(\n",
            "/usr/local/lib/python3.10/dist-packages/sklearn/linear_model/_logistic.py:458: ConvergenceWarning: lbfgs failed to converge (status=1):\n",
            "STOP: TOTAL NO. of ITERATIONS REACHED LIMIT.\n",
            "\n",
            "Increase the number of iterations (max_iter) or scale the data as shown in:\n",
            "    https://scikit-learn.org/stable/modules/preprocessing.html\n",
            "Please also refer to the documentation for alternative solver options:\n",
            "    https://scikit-learn.org/stable/modules/linear_model.html#logistic-regression\n",
            "  n_iter_i = _check_optimize_result(\n",
            "/usr/local/lib/python3.10/dist-packages/sklearn/linear_model/_logistic.py:458: ConvergenceWarning: lbfgs failed to converge (status=1):\n",
            "STOP: TOTAL NO. of ITERATIONS REACHED LIMIT.\n",
            "\n",
            "Increase the number of iterations (max_iter) or scale the data as shown in:\n",
            "    https://scikit-learn.org/stable/modules/preprocessing.html\n",
            "Please also refer to the documentation for alternative solver options:\n",
            "    https://scikit-learn.org/stable/modules/linear_model.html#logistic-regression\n",
            "  n_iter_i = _check_optimize_result(\n",
            "/usr/local/lib/python3.10/dist-packages/sklearn/model_selection/_validation.py:1116: RuntimeWarning: Number of classes in training fold (8) does not match total number of classes (10). Results may not be appropriate for your use case. To fix this, use a cross-validation technique resulting in properly stratified folds\n",
            "  warnings.warn(\n",
            "/usr/local/lib/python3.10/dist-packages/sklearn/linear_model/_logistic.py:458: ConvergenceWarning: lbfgs failed to converge (status=1):\n",
            "STOP: TOTAL NO. of ITERATIONS REACHED LIMIT.\n",
            "\n",
            "Increase the number of iterations (max_iter) or scale the data as shown in:\n",
            "    https://scikit-learn.org/stable/modules/preprocessing.html\n",
            "Please also refer to the documentation for alternative solver options:\n",
            "    https://scikit-learn.org/stable/modules/linear_model.html#logistic-regression\n",
            "  n_iter_i = _check_optimize_result(\n",
            "/usr/local/lib/python3.10/dist-packages/sklearn/model_selection/_validation.py:1116: RuntimeWarning: Number of classes in training fold (9) does not match total number of classes (10). Results may not be appropriate for your use case. To fix this, use a cross-validation technique resulting in properly stratified folds\n",
            "  warnings.warn(\n",
            "/usr/local/lib/python3.10/dist-packages/sklearn/model_selection/_split.py:700: UserWarning: The least populated class in y has only 1 members, which is less than n_splits=5.\n",
            "  warnings.warn(\n",
            "/usr/local/lib/python3.10/dist-packages/sklearn/model_selection/_validation.py:1116: RuntimeWarning: Number of classes in training fold (8) does not match total number of classes (10). Results may not be appropriate for your use case. To fix this, use a cross-validation technique resulting in properly stratified folds\n",
            "  warnings.warn(\n",
            "/usr/local/lib/python3.10/dist-packages/sklearn/model_selection/_validation.py:1116: RuntimeWarning: Number of classes in training fold (8) does not match total number of classes (10). Results may not be appropriate for your use case. To fix this, use a cross-validation technique resulting in properly stratified folds\n",
            "  warnings.warn(\n",
            "/usr/local/lib/python3.10/dist-packages/sklearn/model_selection/_validation.py:1116: RuntimeWarning: Number of classes in training fold (9) does not match total number of classes (10). Results may not be appropriate for your use case. To fix this, use a cross-validation technique resulting in properly stratified folds\n",
            "  warnings.warn(\n",
            "/usr/local/lib/python3.10/dist-packages/sklearn/linear_model/_linear_loss.py:295: RuntimeWarning: overflow encountered in matmul\n",
            "  grad[:, :n_features] = grad_pointwise.T @ X + l2_reg_strength * weights\n",
            "/usr/local/lib/python3.10/dist-packages/sklearn/linear_model/_logistic.py:458: ConvergenceWarning: lbfgs failed to converge (status=2):\n",
            "ABNORMAL_TERMINATION_IN_LNSRCH.\n",
            "\n",
            "Increase the number of iterations (max_iter) or scale the data as shown in:\n",
            "    https://scikit-learn.org/stable/modules/preprocessing.html\n",
            "Please also refer to the documentation for alternative solver options:\n",
            "    https://scikit-learn.org/stable/modules/linear_model.html#logistic-regression\n",
            "  n_iter_i = _check_optimize_result(\n"
          ]
        }
      ]
    },
    {
      "cell_type": "code",
      "source": [
        "# Comparing with Bagging and Boosting Classifiers\n",
        "# Assuming 'accuracy_bagging' and 'accuracy_mb' are the accuracies from previous classifiers\n",
        "print(\"Accuracy of Stacking Classifier:\", accuracy_stack)\n",
        "print(\"Accuracy of Bagging Classifier:\", accuracy_bagging)\n",
        "#print(\"Accuracy of MB() Boosting Classifier:\", accuracy_mb)"
      ],
      "metadata": {
        "colab": {
          "base_uri": "https://localhost:8080/",
          "height": 245
        },
        "id": "weEMm9eeMhlw",
        "outputId": "78045b1e-e06b-4eb5-a35e-61a6d13dcd1c"
      },
      "execution_count": 39,
      "outputs": [
        {
          "output_type": "stream",
          "name": "stdout",
          "text": [
            "Accuracy of Stacking Classifier: 0.1111111111111111\n",
            "Accuracy of Bagging Classifier: 0.7777777777777778\n"
          ]
        },
        {
          "output_type": "error",
          "ename": "NameError",
          "evalue": "ignored",
          "traceback": [
            "\u001b[0;31m---------------------------------------------------------------------------\u001b[0m",
            "\u001b[0;31mNameError\u001b[0m                                 Traceback (most recent call last)",
            "\u001b[0;32m<ipython-input-39-1ee8f910d59d>\u001b[0m in \u001b[0;36m<cell line: 5>\u001b[0;34m()\u001b[0m\n\u001b[1;32m      3\u001b[0m \u001b[0mprint\u001b[0m\u001b[0;34m(\u001b[0m\u001b[0;34m\"Accuracy of Stacking Classifier:\"\u001b[0m\u001b[0;34m,\u001b[0m \u001b[0maccuracy_stack\u001b[0m\u001b[0;34m)\u001b[0m\u001b[0;34m\u001b[0m\u001b[0;34m\u001b[0m\u001b[0m\n\u001b[1;32m      4\u001b[0m \u001b[0mprint\u001b[0m\u001b[0;34m(\u001b[0m\u001b[0;34m\"Accuracy of Bagging Classifier:\"\u001b[0m\u001b[0;34m,\u001b[0m \u001b[0maccuracy_bagging\u001b[0m\u001b[0;34m)\u001b[0m\u001b[0;34m\u001b[0m\u001b[0;34m\u001b[0m\u001b[0m\n\u001b[0;32m----> 5\u001b[0;31m \u001b[0mprint\u001b[0m\u001b[0;34m(\u001b[0m\u001b[0;34m\"Accuracy of MB() Boosting Classifier:\"\u001b[0m\u001b[0;34m,\u001b[0m \u001b[0maccuracy_mb\u001b[0m\u001b[0;34m)\u001b[0m\u001b[0;34m\u001b[0m\u001b[0;34m\u001b[0m\u001b[0m\n\u001b[0m",
            "\u001b[0;31mNameError\u001b[0m: name 'accuracy_mb' is not defined"
          ]
        }
      ]
    },
    {
      "cell_type": "code",
      "source": [
        "# Identify the best ensemble approach\n",
        "best_accuracy = max(accuracy_stack, accuracy_bagging, accuracy_mb)\n",
        "best_model = 'Stacking' if best_accuracy == accuracy_stack else 'Bagging' if best_accuracy == accuracy_bagging else 'MB Boosting'\n",
        "print(\"Best ensemble approach in terms of accuracy:\", best_model)"
      ],
      "metadata": {
        "colab": {
          "base_uri": "https://localhost:8080/",
          "height": 245
        },
        "id": "RZYqSezMMpFz",
        "outputId": "f334b0ae-85af-4c5a-ce5d-ffbacb7742e7"
      },
      "execution_count": 40,
      "outputs": [
        {
          "output_type": "error",
          "ename": "NameError",
          "evalue": "ignored",
          "traceback": [
            "\u001b[0;31m---------------------------------------------------------------------------\u001b[0m",
            "\u001b[0;31mNameError\u001b[0m                                 Traceback (most recent call last)",
            "\u001b[0;32m<ipython-input-40-0364b8569765>\u001b[0m in \u001b[0;36m<cell line: 2>\u001b[0;34m()\u001b[0m\n\u001b[1;32m      1\u001b[0m \u001b[0;31m# Identify the best ensemble approach\u001b[0m\u001b[0;34m\u001b[0m\u001b[0;34m\u001b[0m\u001b[0m\n\u001b[0;32m----> 2\u001b[0;31m \u001b[0mbest_accuracy\u001b[0m \u001b[0;34m=\u001b[0m \u001b[0mmax\u001b[0m\u001b[0;34m(\u001b[0m\u001b[0maccuracy_stack\u001b[0m\u001b[0;34m,\u001b[0m \u001b[0maccuracy_bagging\u001b[0m\u001b[0;34m,\u001b[0m \u001b[0maccuracy_mb\u001b[0m\u001b[0;34m)\u001b[0m\u001b[0;34m\u001b[0m\u001b[0;34m\u001b[0m\u001b[0m\n\u001b[0m\u001b[1;32m      3\u001b[0m \u001b[0mbest_model\u001b[0m \u001b[0;34m=\u001b[0m \u001b[0;34m'Stacking'\u001b[0m \u001b[0;32mif\u001b[0m \u001b[0mbest_accuracy\u001b[0m \u001b[0;34m==\u001b[0m \u001b[0maccuracy_stack\u001b[0m \u001b[0;32melse\u001b[0m \u001b[0;34m'Bagging'\u001b[0m \u001b[0;32mif\u001b[0m \u001b[0mbest_accuracy\u001b[0m \u001b[0;34m==\u001b[0m \u001b[0maccuracy_bagging\u001b[0m \u001b[0;32melse\u001b[0m \u001b[0;34m'MB Boosting'\u001b[0m\u001b[0;34m\u001b[0m\u001b[0;34m\u001b[0m\u001b[0m\n\u001b[1;32m      4\u001b[0m \u001b[0mprint\u001b[0m\u001b[0;34m(\u001b[0m\u001b[0;34m\"Best ensemble approach in terms of accuracy:\"\u001b[0m\u001b[0;34m,\u001b[0m \u001b[0mbest_model\u001b[0m\u001b[0;34m)\u001b[0m\u001b[0;34m\u001b[0m\u001b[0;34m\u001b[0m\u001b[0m\n",
            "\u001b[0;31mNameError\u001b[0m: name 'accuracy_mb' is not defined"
          ]
        }
      ]
    },
    {
      "cell_type": "code",
      "source": [],
      "metadata": {
        "id": "usOCOpS_NAYO"
      },
      "execution_count": null,
      "outputs": []
    }
  ]
}